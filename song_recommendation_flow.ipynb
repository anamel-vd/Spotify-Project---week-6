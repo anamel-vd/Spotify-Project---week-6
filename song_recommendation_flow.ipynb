{
 "cells": [
  {
   "cell_type": "code",
   "execution_count": 2,
   "id": "3e53f187",
   "metadata": {},
   "outputs": [
    {
     "name": "stdout",
     "output_type": "stream",
     "text": [
      "Requirement already satisfied: python-Levenshtein in /Users/ana/anaconda3/lib/python3.11/site-packages (0.25.0)\n",
      "Requirement already satisfied: Levenshtein==0.25.0 in /Users/ana/anaconda3/lib/python3.11/site-packages (from python-Levenshtein) (0.25.0)\n",
      "Requirement already satisfied: rapidfuzz<4.0.0,>=3.1.0 in /Users/ana/anaconda3/lib/python3.11/site-packages (from Levenshtein==0.25.0->python-Levenshtein) (3.6.1)\n",
      "Note: you may need to restart the kernel to use updated packages.\n"
     ]
    }
   ],
   "source": [
    "pip install python-Levenshtein\n"
   ]
  },
  {
   "cell_type": "code",
   "execution_count": 3,
   "id": "0162589b",
   "metadata": {},
   "outputs": [],
   "source": [
    "import pandas as pd\n",
    "import Levenshtein\n",
    "\n",
    "billboard_df = pd.read_csv(\"Billboard_100_info.csv\")"
   ]
  },
  {
   "cell_type": "markdown",
   "id": "087cdfe0",
   "metadata": {},
   "source": [
    "## Sorry! Try again message"
   ]
  },
  {
   "cell_type": "code",
   "execution_count": 4,
   "id": "db22f128",
   "metadata": {},
   "outputs": [
    {
     "name": "stdout",
     "output_type": "stream",
     "text": [
      "Enter a song: hiss\n",
      "The song is already in the Billboard DataFrame.\n",
      "Recommended song: Agora Hills\n"
     ]
    }
   ],
   "source": [
    "import spotipy\n",
    "import pandas as pd\n",
    "import json\n",
    "from spotipy.oauth2 import SpotifyClientCredentials\n",
    "\n",
    "\n",
    "#Initialize SpotiPy with user credentials\n",
    "sp = spotipy.Spotify(auth_manager=SpotifyClientCredentials(client_id= config.client_id,\n",
    "                                                           client_secret= config.client_secret))\n",
    "\n",
    "\n",
    "\n",
    "\n",
    "\n",
    "# Function to find similar songs in the Billboard DataFrame\n",
    "def find_similar_song(user_input, billboard_df):\n",
    "    # Convert user input to lowercase\n",
    "    user_input_lower = user_input.lower()\n",
    "    \n",
    "    # Check if the user input is already in lowercase\n",
    "    if user_input_lower in billboard_df[\"song\"].str.lower().values:\n",
    "        print(\"The song is already in the Billboard DataFrame.\")\n",
    "        # Find similar songs using Levenshtein distance\n",
    "        similarities = {}\n",
    "        for song in billboard_df[\"song\"]:\n",
    "            similarity_ratio = Levenshtein.ratio(user_input_lower, song.lower())\n",
    "            similarities[song] = similarity_ratio\n",
    "        # Sort the similarities by ratio in descending order\n",
    "        sorted_similarities = sorted(similarities.items(), key=lambda x: x[1], reverse=True)\n",
    "        # Recommend the most similar song\n",
    "        recommended_song = sorted_similarities[1][0]  # The first one will be the user input itself\n",
    "        print(f\"Recommended song: {recommended_song}\")\n",
    "    else:\n",
    "        print(\"Sorry! Try again.\")\n",
    "\n",
    "# Main function\n",
    "def main():\n",
    "    # Ask the user to input a song\n",
    "    user_input = input(\"Enter a song: \")\n",
    "    \n",
    "    results = sp.search(q=user_input,limit=5,market=\"GB\")\n",
    "#q stands for query\n",
    "    results\n",
    "    # Check for similarities and recommend a song\n",
    "    find_similar_song(user_input, billboard_df)\n",
    "\n",
    "# Run the main function\n",
    "if __name__ == \"__main__\":\n",
    "    main()\n"
   ]
  },
  {
   "cell_type": "markdown",
   "id": "bc2fa883",
   "metadata": {},
   "source": [
    "## Checking in a second df"
   ]
  },
  {
   "cell_type": "code",
   "execution_count": 25,
   "id": "e869e994",
   "metadata": {},
   "outputs": [],
   "source": [
    "import pandas as pd\n",
    "import Levenshtein\n",
    "\n",
    "primary_df = pd.read_csv(\"Billboard_100_info.csv\")\n",
    "secondary_df = pd.read_csv(\"Billboard_50_latin_pop_no_quotes.csv\")"
   ]
  },
  {
   "cell_type": "code",
   "execution_count": 28,
   "id": "0a7752d8",
   "metadata": {},
   "outputs": [
    {
     "name": "stdout",
     "output_type": "stream",
     "text": [
      "Enter a song: hiss\n",
      "The song is already in the primary DataFrame.\n",
      "Recommended song from primary DataFrame: Agora Hills\n"
     ]
    }
   ],
   "source": [
    "# Function to find similar songs in a DataFrame\n",
    "def find_similar_song(user_input, primary_df, secondary_df):\n",
    "    # Convert user input to lowercase\n",
    "    user_input_lower = user_input.lower()\n",
    "    \n",
    "    # Check if the user input is already in lowercase in the primary DataFrame\n",
    "    if user_input_lower in primary_df[\"song\"].str.lower().values:\n",
    "        print(\"The song is already in the primary DataFrame.\")\n",
    "        # Find similar songs using Levenshtein distance\n",
    "        similarities = {}\n",
    "        for song in primary_df[\"song\"]:\n",
    "            similarity_ratio = Levenshtein.ratio(user_input_lower, song.lower())\n",
    "            similarities[song] = similarity_ratio\n",
    "        # Sort the similarities by ratio in descending order\n",
    "        sorted_similarities = sorted(similarities.items(), key=lambda x: x[1], reverse=True)\n",
    "        # Recommend the most similar song\n",
    "        recommended_song = sorted_similarities[1][0]  # The first one will be the user input itself\n",
    "        print(f\"Recommended song from primary DataFrame: {recommended_song}\")\n",
    "    # If the song is not found in the primary DataFrame, check in the secondary DataFrame\n",
    "    elif user_input_lower in secondary_df[\"song\"].str.lower().values:\n",
    "        print(\"The song is found in the secondary DataFrame.\")\n",
    "        # Additional logic for recommending a song from the secondary DataFrame\n",
    "        # You can implement similar logic as above for finding similar songs\n",
    "    else:\n",
    "        print(\"Sorry! Try again.\")\n",
    "\n",
    "# Main function\n",
    "def main():\n",
    "    # Ask the user to input a song\n",
    "    user_input = input(\"Enter a song: \")\n",
    "    \n",
    "    # Check for similarities and recommend a song from the primary DataFrame\n",
    "    find_similar_song(user_input, primary_df, secondary_df)\n",
    "\n",
    "# Run the main function\n",
    "if __name__ == \"__main__\":\n",
    "    main()\n"
   ]
  },
  {
   "cell_type": "markdown",
   "id": "5e6aa068",
   "metadata": {},
   "source": [
    "## Trying with de secondary df "
   ]
  },
  {
   "cell_type": "code",
   "execution_count": 34,
   "id": "97106cb8",
   "metadata": {},
   "outputs": [],
   "source": [
    "import pandas as pd\n",
    "import Levenshtein\n",
    "\n",
    "billboard_df = pd.read_csv(\"Billboard_50_latin_pop_no_quotes.csv\")"
   ]
  },
  {
   "cell_type": "code",
   "execution_count": 36,
   "id": "ae16e3ce",
   "metadata": {},
   "outputs": [
    {
     "name": "stdout",
     "output_type": "stream",
     "text": [
      "Enter a song: malamente\n",
      "Sorry! Try again.\n"
     ]
    }
   ],
   "source": [
    "# Function to find similar songs in the Billboard DataFrame\n",
    "def find_similar_song(user_input, billboard_df):\n",
    "    # Convert user input to lowercase\n",
    "    user_input_lower = user_input.lower()\n",
    "    \n",
    "    # Check if the user input is already in lowercase\n",
    "    if user_input_lower in billboard_df[\"song\"].str.lower().values:\n",
    "        print(\"The song is already in the Billboard DataFrame.\")\n",
    "        # Find similar songs using Levenshtein distance\n",
    "        similarities = {}\n",
    "        for song in billboard_df[\"song\"]:\n",
    "            similarity_ratio = Levenshtein.ratio(user_input_lower, song.lower())\n",
    "            similarities[song] = similarity_ratio\n",
    "        # Sort the similarities by ratio in descending order\n",
    "        sorted_similarities = sorted(similarities.items(), key=lambda x: x[1], reverse=True)\n",
    "        # Recommend the most similar song\n",
    "        recommended_song = sorted_similarities[1][0]  # The first one will be the user input itself\n",
    "        print(f\"Recommended song: {recommended_song}\")\n",
    "    else:\n",
    "        print(\"Sorry! Try again.\")\n",
    "\n",
    "# Main function\n",
    "def main():\n",
    "    # Ask the user to input a song\n",
    "    user_input = input(\"Enter a song: \")\n",
    "    \n",
    "    # Check for similarities and recommend a song\n",
    "    find_similar_song(user_input, billboard_df)\n",
    "\n",
    "# Run the main function\n",
    "if __name__ == \"__main__\":\n",
    "    main()\n"
   ]
  },
  {
   "cell_type": "code",
   "execution_count": null,
   "id": "467b42c8",
   "metadata": {},
   "outputs": [],
   "source": []
  },
  {
   "cell_type": "code",
   "execution_count": null,
   "id": "446d00f6",
   "metadata": {},
   "outputs": [],
   "source": []
  }
 ],
 "metadata": {
  "kernelspec": {
   "display_name": "Python 3 (ipykernel)",
   "language": "python",
   "name": "python3"
  },
  "language_info": {
   "codemirror_mode": {
    "name": "ipython",
    "version": 3
   },
   "file_extension": ".py",
   "mimetype": "text/x-python",
   "name": "python",
   "nbconvert_exporter": "python",
   "pygments_lexer": "ipython3",
   "version": "3.11.5"
  }
 },
 "nbformat": 4,
 "nbformat_minor": 5
}
