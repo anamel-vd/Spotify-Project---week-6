{
 "cells": [
  {
   "cell_type": "markdown",
   "id": "9041d38f",
   "metadata": {},
   "source": [
    "# Installing Spotipy"
   ]
  },
  {
   "cell_type": "code",
   "execution_count": 10,
   "id": "ca500b7d",
   "metadata": {},
   "outputs": [],
   "source": [
    "##!conda install -c conda-forge spotipy"
   ]
  },
  {
   "cell_type": "code",
   "execution_count": 11,
   "id": "ac9b0577",
   "metadata": {},
   "outputs": [],
   "source": [
    "import config "
   ]
  },
  {
   "cell_type": "code",
   "execution_count": 12,
   "id": "88c3a3ba",
   "metadata": {},
   "outputs": [
    {
     "data": {
      "text/plain": [
       "{'tracks': {'href': 'https://api.spotify.com/v1/search?query=daddy+cool&type=track&market=GB&offset=0&limit=5',\n",
       "  'items': [{'album': {'album_type': 'album',\n",
       "     'artists': [{'external_urls': {'spotify': 'https://open.spotify.com/artist/54R6Y0I7jGUCveDTtI21nb'},\n",
       "       'href': 'https://api.spotify.com/v1/artists/54R6Y0I7jGUCveDTtI21nb',\n",
       "       'id': '54R6Y0I7jGUCveDTtI21nb',\n",
       "       'name': 'Boney M.',\n",
       "       'type': 'artist',\n",
       "       'uri': 'spotify:artist:54R6Y0I7jGUCveDTtI21nb'}],\n",
       "     'external_urls': {'spotify': 'https://open.spotify.com/album/1KQUrny9y5zGpktF6hAGd4'},\n",
       "     'href': 'https://api.spotify.com/v1/albums/1KQUrny9y5zGpktF6hAGd4',\n",
       "     'id': '1KQUrny9y5zGpktF6hAGd4',\n",
       "     'images': [{'height': 640,\n",
       "       'url': 'https://i.scdn.co/image/ab67616d0000b273dafd1cd6e9537ec8463ea691',\n",
       "       'width': 640},\n",
       "      {'height': 300,\n",
       "       'url': 'https://i.scdn.co/image/ab67616d00001e02dafd1cd6e9537ec8463ea691',\n",
       "       'width': 300},\n",
       "      {'height': 64,\n",
       "       'url': 'https://i.scdn.co/image/ab67616d00004851dafd1cd6e9537ec8463ea691',\n",
       "       'width': 64}],\n",
       "     'is_playable': True,\n",
       "     'name': 'Take The Heat Off Me',\n",
       "     'release_date': '1976',\n",
       "     'release_date_precision': 'year',\n",
       "     'total_tracks': 10,\n",
       "     'type': 'album',\n",
       "     'uri': 'spotify:album:1KQUrny9y5zGpktF6hAGd4'},\n",
       "    'artists': [{'external_urls': {'spotify': 'https://open.spotify.com/artist/54R6Y0I7jGUCveDTtI21nb'},\n",
       "      'href': 'https://api.spotify.com/v1/artists/54R6Y0I7jGUCveDTtI21nb',\n",
       "      'id': '54R6Y0I7jGUCveDTtI21nb',\n",
       "      'name': 'Boney M.',\n",
       "      'type': 'artist',\n",
       "      'uri': 'spotify:artist:54R6Y0I7jGUCveDTtI21nb'}],\n",
       "    'disc_number': 1,\n",
       "    'duration_ms': 208600,\n",
       "    'explicit': False,\n",
       "    'external_ids': {'isrc': 'DEC737600002'},\n",
       "    'external_urls': {'spotify': 'https://open.spotify.com/track/3WMbD1OyfKuwWDWMNbPQ4g'},\n",
       "    'href': 'https://api.spotify.com/v1/tracks/3WMbD1OyfKuwWDWMNbPQ4g',\n",
       "    'id': '3WMbD1OyfKuwWDWMNbPQ4g',\n",
       "    'is_local': False,\n",
       "    'is_playable': True,\n",
       "    'name': 'Daddy Cool',\n",
       "    'popularity': 77,\n",
       "    'preview_url': 'https://p.scdn.co/mp3-preview/03e2b60a6a5c101dc0d41866f2e079d8de4a663b?cid=0e5985990b974809b2641d39ab0ad42f',\n",
       "    'track_number': 1,\n",
       "    'type': 'track',\n",
       "    'uri': 'spotify:track:3WMbD1OyfKuwWDWMNbPQ4g'},\n",
       "   {'album': {'album_type': 'compilation',\n",
       "     'artists': [{'external_urls': {'spotify': 'https://open.spotify.com/artist/54R6Y0I7jGUCveDTtI21nb'},\n",
       "       'href': 'https://api.spotify.com/v1/artists/54R6Y0I7jGUCveDTtI21nb',\n",
       "       'id': '54R6Y0I7jGUCveDTtI21nb',\n",
       "       'name': 'Boney M.',\n",
       "       'type': 'artist',\n",
       "       'uri': 'spotify:artist:54R6Y0I7jGUCveDTtI21nb'}],\n",
       "     'external_urls': {'spotify': 'https://open.spotify.com/album/155cebHEGGBqYJAXKWJw6D'},\n",
       "     'href': 'https://api.spotify.com/v1/albums/155cebHEGGBqYJAXKWJw6D',\n",
       "     'id': '155cebHEGGBqYJAXKWJw6D',\n",
       "     'images': [{'height': 640,\n",
       "       'url': 'https://i.scdn.co/image/ab67616d0000b273d792d961638fd28f8d281947',\n",
       "       'width': 640},\n",
       "      {'height': 300,\n",
       "       'url': 'https://i.scdn.co/image/ab67616d00001e02d792d961638fd28f8d281947',\n",
       "       'width': 300},\n",
       "      {'height': 64,\n",
       "       'url': 'https://i.scdn.co/image/ab67616d00004851d792d961638fd28f8d281947',\n",
       "       'width': 64}],\n",
       "     'is_playable': True,\n",
       "     'name': 'Daddy Cool',\n",
       "     'release_date': '1994-03-14',\n",
       "     'release_date_precision': 'day',\n",
       "     'total_tracks': 16,\n",
       "     'type': 'album',\n",
       "     'uri': 'spotify:album:155cebHEGGBqYJAXKWJw6D'},\n",
       "    'artists': [{'external_urls': {'spotify': 'https://open.spotify.com/artist/54R6Y0I7jGUCveDTtI21nb'},\n",
       "      'href': 'https://api.spotify.com/v1/artists/54R6Y0I7jGUCveDTtI21nb',\n",
       "      'id': '54R6Y0I7jGUCveDTtI21nb',\n",
       "      'name': 'Boney M.',\n",
       "      'type': 'artist',\n",
       "      'uri': 'spotify:artist:54R6Y0I7jGUCveDTtI21nb'}],\n",
       "    'disc_number': 1,\n",
       "    'duration_ms': 220666,\n",
       "    'explicit': False,\n",
       "    'external_ids': {'isrc': 'DED160000010'},\n",
       "    'external_urls': {'spotify': 'https://open.spotify.com/track/5lWSa1rmuSL6OBPOnkAqoa'},\n",
       "    'href': 'https://api.spotify.com/v1/tracks/5lWSa1rmuSL6OBPOnkAqoa',\n",
       "    'id': '5lWSa1rmuSL6OBPOnkAqoa',\n",
       "    'is_local': False,\n",
       "    'is_playable': True,\n",
       "    'name': 'Rasputin',\n",
       "    'popularity': 72,\n",
       "    'preview_url': 'https://p.scdn.co/mp3-preview/99129129d46b1937b0897e38d561110e1cd319f4?cid=0e5985990b974809b2641d39ab0ad42f',\n",
       "    'track_number': 3,\n",
       "    'type': 'track',\n",
       "    'uri': 'spotify:track:5lWSa1rmuSL6OBPOnkAqoa'},\n",
       "   {'album': {'album_type': 'single',\n",
       "     'artists': [{'external_urls': {'spotify': 'https://open.spotify.com/artist/12A83CWwFiyXy90ScLWPIe'},\n",
       "       'href': 'https://api.spotify.com/v1/artists/12A83CWwFiyXy90ScLWPIe',\n",
       "       'id': '12A83CWwFiyXy90ScLWPIe',\n",
       "       'name': 'LIZOT',\n",
       "       'type': 'artist',\n",
       "       'uri': 'spotify:artist:12A83CWwFiyXy90ScLWPIe'},\n",
       "      {'external_urls': {'spotify': 'https://open.spotify.com/artist/54R6Y0I7jGUCveDTtI21nb'},\n",
       "       'href': 'https://api.spotify.com/v1/artists/54R6Y0I7jGUCveDTtI21nb',\n",
       "       'id': '54R6Y0I7jGUCveDTtI21nb',\n",
       "       'name': 'Boney M.',\n",
       "       'type': 'artist',\n",
       "       'uri': 'spotify:artist:54R6Y0I7jGUCveDTtI21nb'}],\n",
       "     'external_urls': {'spotify': 'https://open.spotify.com/album/7fXtm0TpLRIJhxobKDjxRp'},\n",
       "     'href': 'https://api.spotify.com/v1/albums/7fXtm0TpLRIJhxobKDjxRp',\n",
       "     'id': '7fXtm0TpLRIJhxobKDjxRp',\n",
       "     'images': [{'height': 640,\n",
       "       'url': 'https://i.scdn.co/image/ab67616d0000b273da8ce498bc7d441e6d841d25',\n",
       "       'width': 640},\n",
       "      {'height': 300,\n",
       "       'url': 'https://i.scdn.co/image/ab67616d00001e02da8ce498bc7d441e6d841d25',\n",
       "       'width': 300},\n",
       "      {'height': 64,\n",
       "       'url': 'https://i.scdn.co/image/ab67616d00004851da8ce498bc7d441e6d841d25',\n",
       "       'width': 64}],\n",
       "     'is_playable': True,\n",
       "     'name': 'Daddy Cool',\n",
       "     'release_date': '2021-12-03',\n",
       "     'release_date_precision': 'day',\n",
       "     'total_tracks': 1,\n",
       "     'type': 'album',\n",
       "     'uri': 'spotify:album:7fXtm0TpLRIJhxobKDjxRp'},\n",
       "    'artists': [{'external_urls': {'spotify': 'https://open.spotify.com/artist/12A83CWwFiyXy90ScLWPIe'},\n",
       "      'href': 'https://api.spotify.com/v1/artists/12A83CWwFiyXy90ScLWPIe',\n",
       "      'id': '12A83CWwFiyXy90ScLWPIe',\n",
       "      'name': 'LIZOT',\n",
       "      'type': 'artist',\n",
       "      'uri': 'spotify:artist:12A83CWwFiyXy90ScLWPIe'},\n",
       "     {'external_urls': {'spotify': 'https://open.spotify.com/artist/54R6Y0I7jGUCveDTtI21nb'},\n",
       "      'href': 'https://api.spotify.com/v1/artists/54R6Y0I7jGUCveDTtI21nb',\n",
       "      'id': '54R6Y0I7jGUCveDTtI21nb',\n",
       "      'name': 'Boney M.',\n",
       "      'type': 'artist',\n",
       "      'uri': 'spotify:artist:54R6Y0I7jGUCveDTtI21nb'}],\n",
       "    'disc_number': 1,\n",
       "    'duration_ms': 154858,\n",
       "    'explicit': False,\n",
       "    'external_ids': {'isrc': 'DEE862102870'},\n",
       "    'external_urls': {'spotify': 'https://open.spotify.com/track/50rcUhHimavzT1qq6QrgMG'},\n",
       "    'href': 'https://api.spotify.com/v1/tracks/50rcUhHimavzT1qq6QrgMG',\n",
       "    'id': '50rcUhHimavzT1qq6QrgMG',\n",
       "    'is_local': False,\n",
       "    'is_playable': True,\n",
       "    'name': 'Daddy Cool',\n",
       "    'popularity': 59,\n",
       "    'preview_url': 'https://p.scdn.co/mp3-preview/857d68f8f69125e431cea3e5e89e653440600762?cid=0e5985990b974809b2641d39ab0ad42f',\n",
       "    'track_number': 1,\n",
       "    'type': 'track',\n",
       "    'uri': 'spotify:track:50rcUhHimavzT1qq6QrgMG'},\n",
       "   {'album': {'album_type': 'album',\n",
       "     'artists': [{'external_urls': {'spotify': 'https://open.spotify.com/artist/4dn4KQgTE4P3jrwa3iIVzQ'},\n",
       "       'href': 'https://api.spotify.com/v1/artists/4dn4KQgTE4P3jrwa3iIVzQ',\n",
       "       'id': '4dn4KQgTE4P3jrwa3iIVzQ',\n",
       "       'name': 'Baccara',\n",
       "       'type': 'artist',\n",
       "       'uri': 'spotify:artist:4dn4KQgTE4P3jrwa3iIVzQ'}],\n",
       "     'external_urls': {'spotify': 'https://open.spotify.com/album/5e6VPOPLw5cSXsVMvQEioq'},\n",
       "     'href': 'https://api.spotify.com/v1/albums/5e6VPOPLw5cSXsVMvQEioq',\n",
       "     'id': '5e6VPOPLw5cSXsVMvQEioq',\n",
       "     'images': [{'height': 640,\n",
       "       'url': 'https://i.scdn.co/image/ab67616d0000b273f9742033ffb15f5413898ef9',\n",
       "       'width': 640},\n",
       "      {'height': 300,\n",
       "       'url': 'https://i.scdn.co/image/ab67616d00001e02f9742033ffb15f5413898ef9',\n",
       "       'width': 300},\n",
       "      {'height': 64,\n",
       "       'url': 'https://i.scdn.co/image/ab67616d00004851f9742033ffb15f5413898ef9',\n",
       "       'width': 64}],\n",
       "     'is_playable': True,\n",
       "     'name': 'The Collection & Tracklisting',\n",
       "     'release_date': '1998',\n",
       "     'release_date_precision': 'year',\n",
       "     'total_tracks': 19,\n",
       "     'type': 'album',\n",
       "     'uri': 'spotify:album:5e6VPOPLw5cSXsVMvQEioq'},\n",
       "    'artists': [{'external_urls': {'spotify': 'https://open.spotify.com/artist/4dn4KQgTE4P3jrwa3iIVzQ'},\n",
       "      'href': 'https://api.spotify.com/v1/artists/4dn4KQgTE4P3jrwa3iIVzQ',\n",
       "      'id': '4dn4KQgTE4P3jrwa3iIVzQ',\n",
       "      'name': 'Baccara',\n",
       "      'type': 'artist',\n",
       "      'uri': 'spotify:artist:4dn4KQgTE4P3jrwa3iIVzQ'}],\n",
       "    'disc_number': 1,\n",
       "    'duration_ms': 273866,\n",
       "    'explicit': False,\n",
       "    'external_ids': {'isrc': 'DEC760000065'},\n",
       "    'external_urls': {'spotify': 'https://open.spotify.com/track/2LScqpywMqGcnum6nNaxXX'},\n",
       "    'href': 'https://api.spotify.com/v1/tracks/2LScqpywMqGcnum6nNaxXX',\n",
       "    'id': '2LScqpywMqGcnum6nNaxXX',\n",
       "    'is_local': False,\n",
       "    'is_playable': True,\n",
       "    'name': 'Yes Sir, I Can Boogie',\n",
       "    'popularity': 65,\n",
       "    'preview_url': 'https://p.scdn.co/mp3-preview/704fbc9b86f59da239d2de11d6d5baf808596856?cid=0e5985990b974809b2641d39ab0ad42f',\n",
       "    'track_number': 6,\n",
       "    'type': 'track',\n",
       "    'uri': 'spotify:track:2LScqpywMqGcnum6nNaxXX'},\n",
       "   {'album': {'album_type': 'album',\n",
       "     'artists': [{'external_urls': {'spotify': 'https://open.spotify.com/artist/6RZUqkomCmb8zCRqc9eznB'},\n",
       "       'href': 'https://api.spotify.com/v1/artists/6RZUqkomCmb8zCRqc9eznB',\n",
       "       'id': '6RZUqkomCmb8zCRqc9eznB',\n",
       "       'name': 'Placebo',\n",
       "       'type': 'artist',\n",
       "       'uri': 'spotify:artist:6RZUqkomCmb8zCRqc9eznB'}],\n",
       "     'external_urls': {'spotify': 'https://open.spotify.com/album/7kTsa1wUFrahJJf1cJEOpZ'},\n",
       "     'href': 'https://api.spotify.com/v1/albums/7kTsa1wUFrahJJf1cJEOpZ',\n",
       "     'id': '7kTsa1wUFrahJJf1cJEOpZ',\n",
       "     'images': [{'height': 640,\n",
       "       'url': 'https://i.scdn.co/image/ab67616d0000b27362c995dbce6d7ffa4c097475',\n",
       "       'width': 640},\n",
       "      {'height': 300,\n",
       "       'url': 'https://i.scdn.co/image/ab67616d00001e0262c995dbce6d7ffa4c097475',\n",
       "       'width': 300},\n",
       "      {'height': 64,\n",
       "       'url': 'https://i.scdn.co/image/ab67616d0000485162c995dbce6d7ffa4c097475',\n",
       "       'width': 64}],\n",
       "     'is_playable': True,\n",
       "     'name': 'Covers',\n",
       "     'release_date': '2003-03-24',\n",
       "     'release_date_precision': 'day',\n",
       "     'total_tracks': 10,\n",
       "     'type': 'album',\n",
       "     'uri': 'spotify:album:7kTsa1wUFrahJJf1cJEOpZ'},\n",
       "    'artists': [{'external_urls': {'spotify': 'https://open.spotify.com/artist/6RZUqkomCmb8zCRqc9eznB'},\n",
       "      'href': 'https://api.spotify.com/v1/artists/6RZUqkomCmb8zCRqc9eznB',\n",
       "      'id': '6RZUqkomCmb8zCRqc9eznB',\n",
       "      'name': 'Placebo',\n",
       "      'type': 'artist',\n",
       "      'uri': 'spotify:artist:6RZUqkomCmb8zCRqc9eznB'}],\n",
       "    'disc_number': 1,\n",
       "    'duration_ms': 201706,\n",
       "    'explicit': False,\n",
       "    'external_ids': {'isrc': 'GBAAA0201215'},\n",
       "    'external_urls': {'spotify': 'https://open.spotify.com/track/6blKbRwYDoXl5fFvQY2U75'},\n",
       "    'href': 'https://api.spotify.com/v1/tracks/6blKbRwYDoXl5fFvQY2U75',\n",
       "    'id': '6blKbRwYDoXl5fFvQY2U75',\n",
       "    'is_local': False,\n",
       "    'is_playable': True,\n",
       "    'name': 'Daddy Cool',\n",
       "    'popularity': 47,\n",
       "    'preview_url': 'https://p.scdn.co/mp3-preview/4af3ad78f847b23200036e9cee4d5b06868aea6b?cid=0e5985990b974809b2641d39ab0ad42f',\n",
       "    'track_number': 9,\n",
       "    'type': 'track',\n",
       "    'uri': 'spotify:track:6blKbRwYDoXl5fFvQY2U75'}],\n",
       "  'limit': 5,\n",
       "  'next': 'https://api.spotify.com/v1/search?query=daddy+cool&type=track&market=GB&offset=5&limit=5',\n",
       "  'offset': 0,\n",
       "  'previous': None,\n",
       "  'total': 825}}"
      ]
     },
     "execution_count": 12,
     "metadata": {},
     "output_type": "execute_result"
    }
   ],
   "source": [
    "import spotipy\n",
    "import pandas as pd\n",
    "import json\n",
    "from spotipy.oauth2 import SpotifyClientCredentials\n",
    "\n",
    "\n",
    "#Initialize SpotiPy with user credentials\n",
    "sp = spotipy.Spotify(auth_manager=SpotifyClientCredentials(client_id= config.client_id,\n",
    "                                                           client_secret= config.client_secret))\n",
    "\n",
    "\n",
    "\n",
    "results = sp.search(q=\"daddy cool\",limit=5,market=\"GB\")\n",
    "#q stands for query\n",
    "results"
   ]
  },
  {
   "cell_type": "code",
   "execution_count": 13,
   "id": "c2291038",
   "metadata": {},
   "outputs": [],
   "source": [
    "import pprint"
   ]
  },
  {
   "cell_type": "code",
   "execution_count": 14,
   "id": "8fd31da6",
   "metadata": {},
   "outputs": [],
   "source": [
    "def get_playlist_tracks(username, playlist_id):\n",
    "    results = sp.user_playlist_tracks(username,playlist_id,market=\"GB\")\n",
    "    tracks = results['items']\n",
    "    while results['next']:\n",
    "        results = sp.next(results)\n",
    "        tracks.extend(results['items'])\n",
    "    return tracks"
   ]
  },
  {
   "cell_type": "markdown",
   "id": "0e0b1009",
   "metadata": {},
   "source": [
    "# Germany music"
   ]
  },
  {
   "cell_type": "code",
   "execution_count": 20,
   "id": "226365df",
   "metadata": {},
   "outputs": [],
   "source": [
    "germany_music = get_playlist_tracks('Spotify','46w2ClivIbhMgdqyGSKwvY')"
   ]
  },
  {
   "cell_type": "code",
   "execution_count": 21,
   "id": "5a08fd05",
   "metadata": {},
   "outputs": [],
   "source": [
    "germany_music_ids = []\n",
    "for i in germany_music:\n",
    "    germany_music_ids.append(i['track']['id'])"
   ]
  },
  {
   "cell_type": "code",
   "execution_count": null,
   "id": "00cd694d",
   "metadata": {},
   "outputs": [],
   "source": []
  },
  {
   "cell_type": "code",
   "execution_count": 23,
   "id": "ab7e0b7f",
   "metadata": {},
   "outputs": [
    {
     "name": "stderr",
     "output_type": "stream",
     "text": [
      "Max Retries reached\n"
     ]
    },
    {
     "ename": "SpotifyException",
     "evalue": "http status: 429, code:-1 - /v1/audio-features/?ids=31nfdEooLEq7dn3UMcIeB5:\n Max Retries, reason: too many 429 error responses",
     "output_type": "error",
     "traceback": [
      "\u001b[0;31m---------------------------------------------------------------------------\u001b[0m",
      "\u001b[0;31mMaxRetryError\u001b[0m                             Traceback (most recent call last)",
      "File \u001b[0;32m~/anaconda3/lib/python3.11/site-packages/requests/adapters.py:486\u001b[0m, in \u001b[0;36mHTTPAdapter.send\u001b[0;34m(self, request, stream, timeout, verify, cert, proxies)\u001b[0m\n\u001b[1;32m    485\u001b[0m \u001b[38;5;28;01mtry\u001b[39;00m:\n\u001b[0;32m--> 486\u001b[0m     resp \u001b[38;5;241m=\u001b[39m conn\u001b[38;5;241m.\u001b[39murlopen(\n\u001b[1;32m    487\u001b[0m         method\u001b[38;5;241m=\u001b[39mrequest\u001b[38;5;241m.\u001b[39mmethod,\n\u001b[1;32m    488\u001b[0m         url\u001b[38;5;241m=\u001b[39murl,\n\u001b[1;32m    489\u001b[0m         body\u001b[38;5;241m=\u001b[39mrequest\u001b[38;5;241m.\u001b[39mbody,\n\u001b[1;32m    490\u001b[0m         headers\u001b[38;5;241m=\u001b[39mrequest\u001b[38;5;241m.\u001b[39mheaders,\n\u001b[1;32m    491\u001b[0m         redirect\u001b[38;5;241m=\u001b[39m\u001b[38;5;28;01mFalse\u001b[39;00m,\n\u001b[1;32m    492\u001b[0m         assert_same_host\u001b[38;5;241m=\u001b[39m\u001b[38;5;28;01mFalse\u001b[39;00m,\n\u001b[1;32m    493\u001b[0m         preload_content\u001b[38;5;241m=\u001b[39m\u001b[38;5;28;01mFalse\u001b[39;00m,\n\u001b[1;32m    494\u001b[0m         decode_content\u001b[38;5;241m=\u001b[39m\u001b[38;5;28;01mFalse\u001b[39;00m,\n\u001b[1;32m    495\u001b[0m         retries\u001b[38;5;241m=\u001b[39m\u001b[38;5;28mself\u001b[39m\u001b[38;5;241m.\u001b[39mmax_retries,\n\u001b[1;32m    496\u001b[0m         timeout\u001b[38;5;241m=\u001b[39mtimeout,\n\u001b[1;32m    497\u001b[0m         chunked\u001b[38;5;241m=\u001b[39mchunked,\n\u001b[1;32m    498\u001b[0m     )\n\u001b[1;32m    500\u001b[0m \u001b[38;5;28;01mexcept\u001b[39;00m (ProtocolError, \u001b[38;5;167;01mOSError\u001b[39;00m) \u001b[38;5;28;01mas\u001b[39;00m err:\n",
      "File \u001b[0;32m~/anaconda3/lib/python3.11/site-packages/urllib3/connectionpool.py:889\u001b[0m, in \u001b[0;36mHTTPConnectionPool.urlopen\u001b[0;34m(self, method, url, body, headers, retries, redirect, assert_same_host, timeout, pool_timeout, release_conn, chunked, body_pos, **response_kw)\u001b[0m\n\u001b[1;32m    888\u001b[0m     log\u001b[38;5;241m.\u001b[39mdebug(\u001b[38;5;124m\"\u001b[39m\u001b[38;5;124mRetry: \u001b[39m\u001b[38;5;132;01m%s\u001b[39;00m\u001b[38;5;124m\"\u001b[39m, url)\n\u001b[0;32m--> 889\u001b[0m     \u001b[38;5;28;01mreturn\u001b[39;00m \u001b[38;5;28mself\u001b[39m\u001b[38;5;241m.\u001b[39murlopen(\n\u001b[1;32m    890\u001b[0m         method,\n\u001b[1;32m    891\u001b[0m         url,\n\u001b[1;32m    892\u001b[0m         body,\n\u001b[1;32m    893\u001b[0m         headers,\n\u001b[1;32m    894\u001b[0m         retries\u001b[38;5;241m=\u001b[39mretries,\n\u001b[1;32m    895\u001b[0m         redirect\u001b[38;5;241m=\u001b[39mredirect,\n\u001b[1;32m    896\u001b[0m         assert_same_host\u001b[38;5;241m=\u001b[39massert_same_host,\n\u001b[1;32m    897\u001b[0m         timeout\u001b[38;5;241m=\u001b[39mtimeout,\n\u001b[1;32m    898\u001b[0m         pool_timeout\u001b[38;5;241m=\u001b[39mpool_timeout,\n\u001b[1;32m    899\u001b[0m         release_conn\u001b[38;5;241m=\u001b[39mrelease_conn,\n\u001b[1;32m    900\u001b[0m         chunked\u001b[38;5;241m=\u001b[39mchunked,\n\u001b[1;32m    901\u001b[0m         body_pos\u001b[38;5;241m=\u001b[39mbody_pos,\n\u001b[1;32m    902\u001b[0m         \u001b[38;5;241m*\u001b[39m\u001b[38;5;241m*\u001b[39mresponse_kw\n\u001b[1;32m    903\u001b[0m     )\n\u001b[1;32m    905\u001b[0m \u001b[38;5;28;01mreturn\u001b[39;00m response\n",
      "File \u001b[0;32m~/anaconda3/lib/python3.11/site-packages/urllib3/connectionpool.py:889\u001b[0m, in \u001b[0;36mHTTPConnectionPool.urlopen\u001b[0;34m(self, method, url, body, headers, retries, redirect, assert_same_host, timeout, pool_timeout, release_conn, chunked, body_pos, **response_kw)\u001b[0m\n\u001b[1;32m    888\u001b[0m     log\u001b[38;5;241m.\u001b[39mdebug(\u001b[38;5;124m\"\u001b[39m\u001b[38;5;124mRetry: \u001b[39m\u001b[38;5;132;01m%s\u001b[39;00m\u001b[38;5;124m\"\u001b[39m, url)\n\u001b[0;32m--> 889\u001b[0m     \u001b[38;5;28;01mreturn\u001b[39;00m \u001b[38;5;28mself\u001b[39m\u001b[38;5;241m.\u001b[39murlopen(\n\u001b[1;32m    890\u001b[0m         method,\n\u001b[1;32m    891\u001b[0m         url,\n\u001b[1;32m    892\u001b[0m         body,\n\u001b[1;32m    893\u001b[0m         headers,\n\u001b[1;32m    894\u001b[0m         retries\u001b[38;5;241m=\u001b[39mretries,\n\u001b[1;32m    895\u001b[0m         redirect\u001b[38;5;241m=\u001b[39mredirect,\n\u001b[1;32m    896\u001b[0m         assert_same_host\u001b[38;5;241m=\u001b[39massert_same_host,\n\u001b[1;32m    897\u001b[0m         timeout\u001b[38;5;241m=\u001b[39mtimeout,\n\u001b[1;32m    898\u001b[0m         pool_timeout\u001b[38;5;241m=\u001b[39mpool_timeout,\n\u001b[1;32m    899\u001b[0m         release_conn\u001b[38;5;241m=\u001b[39mrelease_conn,\n\u001b[1;32m    900\u001b[0m         chunked\u001b[38;5;241m=\u001b[39mchunked,\n\u001b[1;32m    901\u001b[0m         body_pos\u001b[38;5;241m=\u001b[39mbody_pos,\n\u001b[1;32m    902\u001b[0m         \u001b[38;5;241m*\u001b[39m\u001b[38;5;241m*\u001b[39mresponse_kw\n\u001b[1;32m    903\u001b[0m     )\n\u001b[1;32m    905\u001b[0m \u001b[38;5;28;01mreturn\u001b[39;00m response\n",
      "File \u001b[0;32m~/anaconda3/lib/python3.11/site-packages/urllib3/connectionpool.py:889\u001b[0m, in \u001b[0;36mHTTPConnectionPool.urlopen\u001b[0;34m(self, method, url, body, headers, retries, redirect, assert_same_host, timeout, pool_timeout, release_conn, chunked, body_pos, **response_kw)\u001b[0m\n\u001b[1;32m    888\u001b[0m     log\u001b[38;5;241m.\u001b[39mdebug(\u001b[38;5;124m\"\u001b[39m\u001b[38;5;124mRetry: \u001b[39m\u001b[38;5;132;01m%s\u001b[39;00m\u001b[38;5;124m\"\u001b[39m, url)\n\u001b[0;32m--> 889\u001b[0m     \u001b[38;5;28;01mreturn\u001b[39;00m \u001b[38;5;28mself\u001b[39m\u001b[38;5;241m.\u001b[39murlopen(\n\u001b[1;32m    890\u001b[0m         method,\n\u001b[1;32m    891\u001b[0m         url,\n\u001b[1;32m    892\u001b[0m         body,\n\u001b[1;32m    893\u001b[0m         headers,\n\u001b[1;32m    894\u001b[0m         retries\u001b[38;5;241m=\u001b[39mretries,\n\u001b[1;32m    895\u001b[0m         redirect\u001b[38;5;241m=\u001b[39mredirect,\n\u001b[1;32m    896\u001b[0m         assert_same_host\u001b[38;5;241m=\u001b[39massert_same_host,\n\u001b[1;32m    897\u001b[0m         timeout\u001b[38;5;241m=\u001b[39mtimeout,\n\u001b[1;32m    898\u001b[0m         pool_timeout\u001b[38;5;241m=\u001b[39mpool_timeout,\n\u001b[1;32m    899\u001b[0m         release_conn\u001b[38;5;241m=\u001b[39mrelease_conn,\n\u001b[1;32m    900\u001b[0m         chunked\u001b[38;5;241m=\u001b[39mchunked,\n\u001b[1;32m    901\u001b[0m         body_pos\u001b[38;5;241m=\u001b[39mbody_pos,\n\u001b[1;32m    902\u001b[0m         \u001b[38;5;241m*\u001b[39m\u001b[38;5;241m*\u001b[39mresponse_kw\n\u001b[1;32m    903\u001b[0m     )\n\u001b[1;32m    905\u001b[0m \u001b[38;5;28;01mreturn\u001b[39;00m response\n",
      "File \u001b[0;32m~/anaconda3/lib/python3.11/site-packages/urllib3/connectionpool.py:879\u001b[0m, in \u001b[0;36mHTTPConnectionPool.urlopen\u001b[0;34m(self, method, url, body, headers, retries, redirect, assert_same_host, timeout, pool_timeout, release_conn, chunked, body_pos, **response_kw)\u001b[0m\n\u001b[1;32m    878\u001b[0m \u001b[38;5;28;01mtry\u001b[39;00m:\n\u001b[0;32m--> 879\u001b[0m     retries \u001b[38;5;241m=\u001b[39m retries\u001b[38;5;241m.\u001b[39mincrement(method, url, response\u001b[38;5;241m=\u001b[39mresponse, _pool\u001b[38;5;241m=\u001b[39m\u001b[38;5;28mself\u001b[39m)\n\u001b[1;32m    880\u001b[0m \u001b[38;5;28;01mexcept\u001b[39;00m MaxRetryError:\n",
      "File \u001b[0;32m~/anaconda3/lib/python3.11/site-packages/urllib3/util/retry.py:592\u001b[0m, in \u001b[0;36mRetry.increment\u001b[0;34m(self, method, url, response, error, _pool, _stacktrace)\u001b[0m\n\u001b[1;32m    591\u001b[0m \u001b[38;5;28;01mif\u001b[39;00m new_retry\u001b[38;5;241m.\u001b[39mis_exhausted():\n\u001b[0;32m--> 592\u001b[0m     \u001b[38;5;28;01mraise\u001b[39;00m MaxRetryError(_pool, url, error \u001b[38;5;129;01mor\u001b[39;00m ResponseError(cause))\n\u001b[1;32m    594\u001b[0m log\u001b[38;5;241m.\u001b[39mdebug(\u001b[38;5;124m\"\u001b[39m\u001b[38;5;124mIncremented Retry for (url=\u001b[39m\u001b[38;5;124m'\u001b[39m\u001b[38;5;132;01m%s\u001b[39;00m\u001b[38;5;124m'\u001b[39m\u001b[38;5;124m): \u001b[39m\u001b[38;5;132;01m%r\u001b[39;00m\u001b[38;5;124m\"\u001b[39m, url, new_retry)\n",
      "\u001b[0;31mMaxRetryError\u001b[0m: HTTPSConnectionPool(host='api.spotify.com', port=443): Max retries exceeded with url: /v1/audio-features/?ids=31nfdEooLEq7dn3UMcIeB5 (Caused by ResponseError('too many 429 error responses'))",
      "\nDuring handling of the above exception, another exception occurred:\n",
      "\u001b[0;31mRetryError\u001b[0m                                Traceback (most recent call last)",
      "File \u001b[0;32m~/anaconda3/lib/python3.11/site-packages/spotipy/client.py:266\u001b[0m, in \u001b[0;36mSpotify._internal_call\u001b[0;34m(self, method, url, payload, params)\u001b[0m\n\u001b[1;32m    265\u001b[0m \u001b[38;5;28;01mtry\u001b[39;00m:\n\u001b[0;32m--> 266\u001b[0m     response \u001b[38;5;241m=\u001b[39m \u001b[38;5;28mself\u001b[39m\u001b[38;5;241m.\u001b[39m_session\u001b[38;5;241m.\u001b[39mrequest(\n\u001b[1;32m    267\u001b[0m         method, url, headers\u001b[38;5;241m=\u001b[39mheaders, proxies\u001b[38;5;241m=\u001b[39m\u001b[38;5;28mself\u001b[39m\u001b[38;5;241m.\u001b[39mproxies,\n\u001b[1;32m    268\u001b[0m         timeout\u001b[38;5;241m=\u001b[39m\u001b[38;5;28mself\u001b[39m\u001b[38;5;241m.\u001b[39mrequests_timeout, \u001b[38;5;241m*\u001b[39m\u001b[38;5;241m*\u001b[39margs\n\u001b[1;32m    269\u001b[0m     )\n\u001b[1;32m    271\u001b[0m     response\u001b[38;5;241m.\u001b[39mraise_for_status()\n",
      "File \u001b[0;32m~/anaconda3/lib/python3.11/site-packages/requests/sessions.py:589\u001b[0m, in \u001b[0;36mSession.request\u001b[0;34m(self, method, url, params, data, headers, cookies, files, auth, timeout, allow_redirects, proxies, hooks, stream, verify, cert, json)\u001b[0m\n\u001b[1;32m    588\u001b[0m send_kwargs\u001b[38;5;241m.\u001b[39mupdate(settings)\n\u001b[0;32m--> 589\u001b[0m resp \u001b[38;5;241m=\u001b[39m \u001b[38;5;28mself\u001b[39m\u001b[38;5;241m.\u001b[39msend(prep, \u001b[38;5;241m*\u001b[39m\u001b[38;5;241m*\u001b[39msend_kwargs)\n\u001b[1;32m    591\u001b[0m \u001b[38;5;28;01mreturn\u001b[39;00m resp\n",
      "File \u001b[0;32m~/anaconda3/lib/python3.11/site-packages/requests/sessions.py:703\u001b[0m, in \u001b[0;36mSession.send\u001b[0;34m(self, request, **kwargs)\u001b[0m\n\u001b[1;32m    702\u001b[0m \u001b[38;5;66;03m# Send the request\u001b[39;00m\n\u001b[0;32m--> 703\u001b[0m r \u001b[38;5;241m=\u001b[39m adapter\u001b[38;5;241m.\u001b[39msend(request, \u001b[38;5;241m*\u001b[39m\u001b[38;5;241m*\u001b[39mkwargs)\n\u001b[1;32m    705\u001b[0m \u001b[38;5;66;03m# Total elapsed time of the request (approximately)\u001b[39;00m\n",
      "File \u001b[0;32m~/anaconda3/lib/python3.11/site-packages/requests/adapters.py:510\u001b[0m, in \u001b[0;36mHTTPAdapter.send\u001b[0;34m(self, request, stream, timeout, verify, cert, proxies)\u001b[0m\n\u001b[1;32m    509\u001b[0m \u001b[38;5;28;01mif\u001b[39;00m \u001b[38;5;28misinstance\u001b[39m(e\u001b[38;5;241m.\u001b[39mreason, ResponseError):\n\u001b[0;32m--> 510\u001b[0m     \u001b[38;5;28;01mraise\u001b[39;00m RetryError(e, request\u001b[38;5;241m=\u001b[39mrequest)\n\u001b[1;32m    512\u001b[0m \u001b[38;5;28;01mif\u001b[39;00m \u001b[38;5;28misinstance\u001b[39m(e\u001b[38;5;241m.\u001b[39mreason, _ProxyError):\n",
      "\u001b[0;31mRetryError\u001b[0m: HTTPSConnectionPool(host='api.spotify.com', port=443): Max retries exceeded with url: /v1/audio-features/?ids=31nfdEooLEq7dn3UMcIeB5 (Caused by ResponseError('too many 429 error responses'))",
      "\nDuring handling of the above exception, another exception occurred:\n",
      "\u001b[0;31mSpotifyException\u001b[0m                          Traceback (most recent call last)",
      "Cell \u001b[0;32mIn[23], line 3\u001b[0m\n\u001b[1;32m      1\u001b[0m germany_music_af \u001b[38;5;241m=\u001b[39m []\n\u001b[1;32m      2\u001b[0m \u001b[38;5;28;01mfor\u001b[39;00m i \u001b[38;5;129;01min\u001b[39;00m germany_music_ids:\n\u001b[0;32m----> 3\u001b[0m     germany_music_af\u001b[38;5;241m.\u001b[39mextend(sp\u001b[38;5;241m.\u001b[39maudio_features(i))\n",
      "File \u001b[0;32m~/anaconda3/lib/python3.11/site-packages/spotipy/client.py:1734\u001b[0m, in \u001b[0;36mSpotify.audio_features\u001b[0;34m(self, tracks)\u001b[0m\n\u001b[1;32m   1732\u001b[0m \u001b[38;5;28;01mif\u001b[39;00m \u001b[38;5;28misinstance\u001b[39m(tracks, \u001b[38;5;28mstr\u001b[39m):\n\u001b[1;32m   1733\u001b[0m     trackid \u001b[38;5;241m=\u001b[39m \u001b[38;5;28mself\u001b[39m\u001b[38;5;241m.\u001b[39m_get_id(\u001b[38;5;124m\"\u001b[39m\u001b[38;5;124mtrack\u001b[39m\u001b[38;5;124m\"\u001b[39m, tracks)\n\u001b[0;32m-> 1734\u001b[0m     results \u001b[38;5;241m=\u001b[39m \u001b[38;5;28mself\u001b[39m\u001b[38;5;241m.\u001b[39m_get(\u001b[38;5;124m\"\u001b[39m\u001b[38;5;124maudio-features/?ids=\u001b[39m\u001b[38;5;124m\"\u001b[39m \u001b[38;5;241m+\u001b[39m trackid)\n\u001b[1;32m   1735\u001b[0m \u001b[38;5;28;01melse\u001b[39;00m:\n\u001b[1;32m   1736\u001b[0m     tlist \u001b[38;5;241m=\u001b[39m [\u001b[38;5;28mself\u001b[39m\u001b[38;5;241m.\u001b[39m_get_id(\u001b[38;5;124m\"\u001b[39m\u001b[38;5;124mtrack\u001b[39m\u001b[38;5;124m\"\u001b[39m, t) \u001b[38;5;28;01mfor\u001b[39;00m t \u001b[38;5;129;01min\u001b[39;00m tracks]\n",
      "File \u001b[0;32m~/anaconda3/lib/python3.11/site-packages/spotipy/client.py:323\u001b[0m, in \u001b[0;36mSpotify._get\u001b[0;34m(self, url, args, payload, **kwargs)\u001b[0m\n\u001b[1;32m    320\u001b[0m \u001b[38;5;28;01mif\u001b[39;00m args:\n\u001b[1;32m    321\u001b[0m     kwargs\u001b[38;5;241m.\u001b[39mupdate(args)\n\u001b[0;32m--> 323\u001b[0m \u001b[38;5;28;01mreturn\u001b[39;00m \u001b[38;5;28mself\u001b[39m\u001b[38;5;241m.\u001b[39m_internal_call(\u001b[38;5;124m\"\u001b[39m\u001b[38;5;124mGET\u001b[39m\u001b[38;5;124m\"\u001b[39m, url, payload, kwargs)\n",
      "File \u001b[0;32m~/anaconda3/lib/python3.11/site-packages/spotipy/client.py:307\u001b[0m, in \u001b[0;36mSpotify._internal_call\u001b[0;34m(self, method, url, payload, params)\u001b[0m\n\u001b[1;32m    305\u001b[0m     \u001b[38;5;28;01mexcept\u001b[39;00m (\u001b[38;5;167;01mIndexError\u001b[39;00m, \u001b[38;5;167;01mAttributeError\u001b[39;00m):\n\u001b[1;32m    306\u001b[0m         reason \u001b[38;5;241m=\u001b[39m \u001b[38;5;28;01mNone\u001b[39;00m\n\u001b[0;32m--> 307\u001b[0m     \u001b[38;5;28;01mraise\u001b[39;00m SpotifyException(\n\u001b[1;32m    308\u001b[0m         \u001b[38;5;241m429\u001b[39m,\n\u001b[1;32m    309\u001b[0m         \u001b[38;5;241m-\u001b[39m\u001b[38;5;241m1\u001b[39m,\n\u001b[1;32m    310\u001b[0m         \u001b[38;5;124m\"\u001b[39m\u001b[38;5;132;01m%s\u001b[39;00m\u001b[38;5;124m:\u001b[39m\u001b[38;5;130;01m\\n\u001b[39;00m\u001b[38;5;124m \u001b[39m\u001b[38;5;132;01m%s\u001b[39;00m\u001b[38;5;124m\"\u001b[39m \u001b[38;5;241m%\u001b[39m (request\u001b[38;5;241m.\u001b[39mpath_url, \u001b[38;5;124m\"\u001b[39m\u001b[38;5;124mMax Retries\u001b[39m\u001b[38;5;124m\"\u001b[39m),\n\u001b[1;32m    311\u001b[0m         reason\u001b[38;5;241m=\u001b[39mreason\n\u001b[1;32m    312\u001b[0m     )\n\u001b[1;32m    313\u001b[0m \u001b[38;5;28;01mexcept\u001b[39;00m \u001b[38;5;167;01mValueError\u001b[39;00m:\n\u001b[1;32m    314\u001b[0m     results \u001b[38;5;241m=\u001b[39m \u001b[38;5;28;01mNone\u001b[39;00m\n",
      "\u001b[0;31mSpotifyException\u001b[0m: http status: 429, code:-1 - /v1/audio-features/?ids=31nfdEooLEq7dn3UMcIeB5:\n Max Retries, reason: too many 429 error responses"
     ]
    }
   ],
   "source": [
    "germany_music_af = []\n",
    "for i in germany_music_ids:\n",
    "    germany_music_af.extend(sp.audio_features(i))"
   ]
  },
  {
   "cell_type": "code",
   "execution_count": null,
   "id": "1e5a73ac",
   "metadata": {},
   "outputs": [],
   "source": [
    "germany_top100 = pd.DataFrame(germany_music_af)\n",
    "germany_top100"
   ]
  },
  {
   "cell_type": "code",
   "execution_count": null,
   "id": "c3fb4462",
   "metadata": {},
   "outputs": [],
   "source": [
    "germany_top100.to_csv(\"Germany_top100.csv\", index=False)"
   ]
  },
  {
   "cell_type": "markdown",
   "id": "08f59322",
   "metadata": {},
   "source": [
    "# Latin music"
   ]
  },
  {
   "cell_type": "code",
   "execution_count": null,
   "id": "1e674bc0",
   "metadata": {},
   "outputs": [],
   "source": [
    "latino_music = get_playlist_tracks('Spotify','1VYdKkwhvk03yVitlPok09')\n",
    "\n",
    "latino_music_ids = []\n",
    "for i in latino_music:\n",
    "    latino_music_ids.append(i['track']['id'])\n"
   ]
  },
  {
   "cell_type": "code",
   "execution_count": null,
   "id": "48e22250",
   "metadata": {},
   "outputs": [],
   "source": [
    "chunk_size = 100\n",
    "latino_ids_chopped = [latino_music_ids[i:i+chunk_size] for i in range(0,len(latino_music_ids), 100)]"
   ]
  },
  {
   "cell_type": "code",
   "execution_count": null,
   "id": "310f4186",
   "metadata": {},
   "outputs": [],
   "source": [
    "latino_music_af = []\n",
    "for i in latino_ids_chopped:\n",
    "    latino_music_af.extend(sp.audio_features(i))"
   ]
  },
  {
   "cell_type": "code",
   "execution_count": null,
   "id": "5a0cf6ea",
   "metadata": {
    "scrolled": true
   },
   "outputs": [],
   "source": [
    "latino_top136 = pd.DataFrame(latino_music_af)\n",
    "latino_top136"
   ]
  },
  {
   "cell_type": "code",
   "execution_count": null,
   "id": "ed6d04cc",
   "metadata": {},
   "outputs": [],
   "source": [
    "latino_top136.to_csv(\"Latino_top136.csv\", index=False)"
   ]
  },
  {
   "cell_type": "markdown",
   "id": "c7c2ba12",
   "metadata": {},
   "source": [
    "# Salsa music"
   ]
  },
  {
   "cell_type": "code",
   "execution_count": null,
   "id": "b5bb050e",
   "metadata": {},
   "outputs": [],
   "source": [
    "salsa_music = get_playlist_tracks('Spotify','3VE4mwezxmXQvrVrPZIOpU')\n",
    "\n",
    "salsa_music_ids = []\n",
    "for i in salsa_music:\n",
    "    salsa_music_ids.append(i['track']['id'])"
   ]
  },
  {
   "cell_type": "code",
   "execution_count": null,
   "id": "f8f89244",
   "metadata": {},
   "outputs": [],
   "source": [
    "chunk_size = 100\n",
    "salsa_ids_chopped = [salsa_music_ids[i:i+chunk_size] for i in range(0,len(salsa_music_ids), 100)]"
   ]
  },
  {
   "cell_type": "code",
   "execution_count": null,
   "id": "3128f780",
   "metadata": {},
   "outputs": [],
   "source": [
    "salsa_music_af = []\n",
    "for i in salsa_music_ids:\n",
    "    salsa_music_af.extend(sp.audio_features(i))"
   ]
  },
  {
   "cell_type": "code",
   "execution_count": null,
   "id": "65495180",
   "metadata": {},
   "outputs": [],
   "source": [
    "salsa_top148 = pd.DataFrame(salsa_music_af)\n",
    "salsa_top148"
   ]
  },
  {
   "cell_type": "code",
   "execution_count": null,
   "id": "dd3238de",
   "metadata": {},
   "outputs": [],
   "source": [
    "salsa_top148.to_csv(\"Salsa_top148.csv\", index=False)"
   ]
  },
  {
   "cell_type": "markdown",
   "id": "1282c380",
   "metadata": {},
   "source": [
    "# Best Hits 2024"
   ]
  },
  {
   "cell_type": "code",
   "execution_count": null,
   "id": "853f13d1",
   "metadata": {},
   "outputs": [],
   "source": [
    "bh_music = get_playlist_tracks('Spotify','5KJDMJe9EJ7QRz8FG2MIpI')\n",
    "\n",
    "bh_music_ids = []\n",
    "for i in bh_music:\n",
    "    bh_music_ids.append(i['track']['id'])"
   ]
  },
  {
   "cell_type": "code",
   "execution_count": null,
   "id": "83c6f6ce",
   "metadata": {},
   "outputs": [],
   "source": [
    "chunk_size = 100\n",
    "bh_ids_chopped = [bh_music_ids[i:i+chunk_size] for i in range(0,len(bh_music_ids), 100)]"
   ]
  },
  {
   "cell_type": "code",
   "execution_count": null,
   "id": "26700d53",
   "metadata": {},
   "outputs": [],
   "source": [
    "bh_music_af = []\n",
    "for i in bh_music_ids:\n",
    "    bh_music_af.extend(sp.audio_features(i))"
   ]
  },
  {
   "cell_type": "code",
   "execution_count": null,
   "id": "895e91c0",
   "metadata": {},
   "outputs": [],
   "source": [
    "best_hits_140 = pd.DataFrame(bh_music_af)\n",
    "best_hits_140"
   ]
  },
  {
   "cell_type": "code",
   "execution_count": null,
   "id": "136ca0a3",
   "metadata": {},
   "outputs": [],
   "source": [
    "best_hits_140.to_csv(\"Best_hits_140.csv\", index=False)"
   ]
  },
  {
   "cell_type": "markdown",
   "id": "f5c14573",
   "metadata": {},
   "source": [
    "# House music"
   ]
  },
  {
   "cell_type": "code",
   "execution_count": null,
   "id": "890155ad",
   "metadata": {},
   "outputs": [],
   "source": [
    "house_music = get_playlist_tracks('Spotify','7bu7BZEusLNJSaAuUUZBKn')\n",
    "\n",
    "house_music_ids = []\n",
    "for i in house_music:\n",
    "    house_music_ids.append(i['track']['id'])\n",
    "\n",
    "\n",
    "\n"
   ]
  },
  {
   "cell_type": "code",
   "execution_count": null,
   "id": "bb2073d7",
   "metadata": {},
   "outputs": [],
   "source": [
    "chunk_size = 100\n",
    "house_ids_chopped = [house_music_ids[i:i+chunk_size] for i in range(0,len(house_music_ids), 100)]\n",
    "\n",
    "house_music_af = []\n",
    "for i in house_music_ids:\n",
    "    house_music_af.extend(sp.audio_features(i))"
   ]
  },
  {
   "cell_type": "code",
   "execution_count": null,
   "id": "41a9b883",
   "metadata": {},
   "outputs": [],
   "source": [
    "house_101 = pd.DataFrame(house_music_af)\n",
    "house_101"
   ]
  },
  {
   "cell_type": "code",
   "execution_count": null,
   "id": "68acd8a5",
   "metadata": {},
   "outputs": [],
   "source": [
    "house_101.to_csv(\"House_101.csv\", index=False)"
   ]
  },
  {
   "cell_type": "markdown",
   "id": "fc1b2fc3",
   "metadata": {},
   "source": [
    "# Bachata"
   ]
  },
  {
   "cell_type": "code",
   "execution_count": null,
   "id": "c9c7d12c",
   "metadata": {},
   "outputs": [],
   "source": [
    "bachata_music = get_playlist_tracks('Spotify','5SqR3iQ1rvzjjB8vEPlF8d')\n",
    "\n",
    "bachata_music_ids = []\n",
    "for i in bachata_music:\n",
    "    bachata_music_ids.append(i['track']['id'])"
   ]
  },
  {
   "cell_type": "code",
   "execution_count": null,
   "id": "a21921c2",
   "metadata": {},
   "outputs": [],
   "source": [
    "chunk_size = 100\n",
    "bachata_ids_chopped = [bachata_music_ids[i:i+chunk_size] for i in range(0,len(bachata_music_ids), 100)]\n",
    "\n",
    "bachata_music_af = []\n",
    "for i in bachata_music_ids:\n",
    "    bachata_music_af.extend(sp.audio_features(i))"
   ]
  },
  {
   "cell_type": "code",
   "execution_count": null,
   "id": "d7ff4ef6",
   "metadata": {},
   "outputs": [],
   "source": [
    "bachata_236 = pd.DataFrame(bachata_music_af)\n",
    "bachata_236"
   ]
  },
  {
   "cell_type": "code",
   "execution_count": null,
   "id": "39cdebac",
   "metadata": {},
   "outputs": [],
   "source": [
    "bachata_236.to_csv(\"Bachata_236.csv\", index=False)"
   ]
  },
  {
   "cell_type": "markdown",
   "id": "d17a4d9b",
   "metadata": {},
   "source": [
    "# Rock"
   ]
  },
  {
   "cell_type": "code",
   "execution_count": null,
   "id": "16c17361",
   "metadata": {},
   "outputs": [],
   "source": [
    "rock_music = get_playlist_tracks('Spotify','4G00RTgXb2dU4FieXsjBS4')\n",
    "\n",
    "rock_music_ids = []\n",
    "for i in rock_music:\n",
    "    rock_music_ids.append(i['track']['id'])"
   ]
  },
  {
   "cell_type": "code",
   "execution_count": null,
   "id": "b27838bd",
   "metadata": {},
   "outputs": [],
   "source": [
    "chunk_size = 100\n",
    "rock_ids_chopped = [rock_music_ids[i:i+chunk_size] for i in range(0,len(rock_music_ids), 100)]\n",
    "\n",
    "rock_music_af = []\n",
    "for i in rock_music_ids:\n",
    "    rock_music_af.extend(sp.audio_features(i))"
   ]
  },
  {
   "cell_type": "code",
   "execution_count": null,
   "id": "60f3c72a",
   "metadata": {},
   "outputs": [],
   "source": [
    "rock_135 = pd.DataFrame(rock_music_af)\n",
    "rock_135"
   ]
  },
  {
   "cell_type": "code",
   "execution_count": null,
   "id": "bc2a9198",
   "metadata": {},
   "outputs": [],
   "source": [
    "rock_135.to_csv(\"Rock_135.csv\", index=False)"
   ]
  },
  {
   "cell_type": "markdown",
   "id": "c9d19479",
   "metadata": {},
   "source": [
    "# Jazz"
   ]
  },
  {
   "cell_type": "code",
   "execution_count": null,
   "id": "58316451",
   "metadata": {},
   "outputs": [],
   "source": [
    "jazz_music = get_playlist_tracks('Spotify','37i9dQZF1DXbITWG1ZJKYt')\n",
    "\n",
    "jazz_music_ids = []\n",
    "for i in jazz_music:\n",
    "    jazz_music_ids.append(i['track']['id'])"
   ]
  },
  {
   "cell_type": "code",
   "execution_count": null,
   "id": "061370b1",
   "metadata": {},
   "outputs": [],
   "source": [
    "chunk_size = 100\n",
    "jazz_ids_chopped = [jazz_music_ids[i:i+chunk_size] for i in range(0,len(jazz_music_ids), 100)]\n",
    "\n",
    "jazz_music_af = []\n",
    "for i in jazz_music_ids:\n",
    "    jazz_music_af.extend(sp.audio_features(i))"
   ]
  },
  {
   "cell_type": "code",
   "execution_count": null,
   "id": "832a243c",
   "metadata": {},
   "outputs": [],
   "source": [
    "jazz_794 = pd.DataFrame(jazz_music_af)\n",
    "jazz_794"
   ]
  },
  {
   "cell_type": "code",
   "execution_count": null,
   "id": "635f2565",
   "metadata": {},
   "outputs": [],
   "source": []
  },
  {
   "cell_type": "code",
   "execution_count": null,
   "id": "64fbf365",
   "metadata": {},
   "outputs": [],
   "source": []
  }
 ],
 "metadata": {
  "kernelspec": {
   "display_name": "Python 3 (ipykernel)",
   "language": "python",
   "name": "python3"
  },
  "language_info": {
   "codemirror_mode": {
    "name": "ipython",
    "version": 3
   },
   "file_extension": ".py",
   "mimetype": "text/x-python",
   "name": "python",
   "nbconvert_exporter": "python",
   "pygments_lexer": "ipython3",
   "version": "3.11.5"
  }
 },
 "nbformat": 4,
 "nbformat_minor": 5
}
